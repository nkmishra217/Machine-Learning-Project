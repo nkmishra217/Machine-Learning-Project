{
 "cells": [
  {
   "cell_type": "markdown",
   "metadata": {},
   "source": [
    "# Naive Bayes"
   ]
  },
  {
   "cell_type": "markdown",
   "metadata": {},
   "source": [
    "## Importing the libraries"
   ]
  },
  {
   "cell_type": "code",
   "execution_count": 3,
   "metadata": {},
   "outputs": [],
   "source": [
    "import numpy as np\n",
    "import matplotlib.pyplot as plt\n",
    "import pandas as pd"
   ]
  },
  {
   "cell_type": "markdown",
   "metadata": {},
   "source": [
    "## Importing the dataset"
   ]
  },
  {
   "cell_type": "code",
   "execution_count": 4,
   "metadata": {},
   "outputs": [],
   "source": [
    "dataset = pd.read_csv('train.csv')\n",
    "X = dataset.iloc[:, :-1].values\n",
    "y = dataset.iloc[:, -1].values"
   ]
  },
  {
   "cell_type": "markdown",
   "metadata": {},
   "source": [
    "## Splitting the dataset into the Training set and Test set"
   ]
  },
  {
   "cell_type": "code",
   "execution_count": 5,
   "metadata": {},
   "outputs": [],
   "source": [
    "from sklearn.model_selection import train_test_split\n",
    "X_train, X_test, y_train, y_test = train_test_split(X, y, test_size = 0.25, random_state = 0)"
   ]
  },
  {
   "cell_type": "code",
   "execution_count": 6,
   "metadata": {},
   "outputs": [
    {
     "name": "stdout",
     "output_type": "stream",
     "text": [
      "[[5.310e+02 0.000e+00 1.100e+00 ... 0.000e+00 1.000e+00 0.000e+00]\n",
      " [7.640e+02 1.000e+00 1.200e+00 ... 1.000e+00 1.000e+00 0.000e+00]\n",
      " [1.812e+03 1.000e+00 1.300e+00 ... 1.000e+00 1.000e+00 1.000e+00]\n",
      " ...\n",
      " [1.190e+03 0.000e+00 2.000e+00 ... 0.000e+00 0.000e+00 1.000e+00]\n",
      " [1.191e+03 0.000e+00 2.400e+00 ... 1.000e+00 1.000e+00 1.000e+00]\n",
      " [7.060e+02 0.000e+00 5.000e-01 ... 1.000e+00 0.000e+00 1.000e+00]]\n"
     ]
    }
   ],
   "source": [
    "print(X_train)"
   ]
  },
  {
   "cell_type": "code",
   "execution_count": 7,
   "metadata": {},
   "outputs": [
    {
     "name": "stdout",
     "output_type": "stream",
     "text": [
      "[2 2 3 ... 3 0 1]\n"
     ]
    }
   ],
   "source": [
    "print(y_train)"
   ]
  },
  {
   "cell_type": "code",
   "execution_count": 8,
   "metadata": {},
   "outputs": [
    {
     "name": "stdout",
     "output_type": "stream",
     "text": [
      "[[1.454e+03 1.000e+00 5.000e-01 ... 1.000e+00 1.000e+00 0.000e+00]\n",
      " [1.092e+03 1.000e+00 5.000e-01 ... 0.000e+00 1.000e+00 0.000e+00]\n",
      " [1.524e+03 1.000e+00 1.800e+00 ... 1.000e+00 0.000e+00 1.000e+00]\n",
      " ...\n",
      " [1.759e+03 1.000e+00 1.400e+00 ... 1.000e+00 1.000e+00 0.000e+00]\n",
      " [5.140e+02 1.000e+00 1.600e+00 ... 1.000e+00 1.000e+00 1.000e+00]\n",
      " [1.410e+03 1.000e+00 5.000e-01 ... 1.000e+00 1.000e+00 0.000e+00]]\n"
     ]
    }
   ],
   "source": [
    "print(X_test)"
   ]
  },
  {
   "cell_type": "markdown",
   "metadata": {},
   "source": [
    "## Feature Scaling"
   ]
  },
  {
   "cell_type": "code",
   "execution_count": 9,
   "metadata": {},
   "outputs": [],
   "source": [
    "from sklearn.preprocessing import StandardScaler\n",
    "sc = StandardScaler()\n",
    "X_train = sc.fit_transform(X_train)\n",
    "X_test = sc.transform(X_test)"
   ]
  },
  {
   "cell_type": "code",
   "execution_count": 10,
   "metadata": {},
   "outputs": [
    {
     "name": "stdout",
     "output_type": "stream",
     "text": [
      "[[-1.58954736 -0.97628121 -0.54409463 ... -1.77951304  1.01072417\n",
      "  -1.02840321]\n",
      " [-1.06204271  1.02429504 -0.42202734 ...  0.56195149  1.01072417\n",
      "  -1.02840321]\n",
      " [ 1.31059626  1.02429504 -0.29996004 ...  0.56195149  1.01072417\n",
      "   0.97238125]\n",
      " ...\n",
      " [-0.09759213 -0.97628121  0.55451104 ... -1.77951304 -0.98938962\n",
      "   0.97238125]\n",
      " [-0.09532817 -0.97628121  1.04278023 ...  0.56195149  1.01072417\n",
      "   0.97238125]\n",
      " [-1.19335288 -0.97628121 -1.27649842 ...  0.56195149 -0.98938962\n",
      "   0.97238125]]\n"
     ]
    }
   ],
   "source": [
    "print(X_train)"
   ]
  },
  {
   "cell_type": "markdown",
   "metadata": {},
   "source": [
    "## Training the Naive Bayes model on the Training set"
   ]
  },
  {
   "cell_type": "code",
   "execution_count": 11,
   "metadata": {},
   "outputs": [
    {
     "data": {
      "text/plain": [
       "GaussianNB(priors=None, var_smoothing=1e-09)"
      ]
     },
     "execution_count": 11,
     "metadata": {},
     "output_type": "execute_result"
    }
   ],
   "source": [
    "from sklearn.naive_bayes import GaussianNB\n",
    "classifier = GaussianNB()\n",
    "classifier.fit(X_train, y_train)"
   ]
  },
  {
   "cell_type": "markdown",
   "metadata": {},
   "source": [
    "## Predicting the Test set results"
   ]
  },
  {
   "cell_type": "code",
   "execution_count": 12,
   "metadata": {},
   "outputs": [
    {
     "name": "stdout",
     "output_type": "stream",
     "text": [
      "[[3 3]\n",
      " [0 0]\n",
      " [2 2]\n",
      " [1 2]\n",
      " [3 2]\n",
      " [0 0]\n",
      " [0 0]\n",
      " [3 3]\n",
      " [3 3]\n",
      " [1 1]\n",
      " [1 1]\n",
      " [3 3]\n",
      " [0 0]\n",
      " [2 2]\n",
      " [3 3]\n",
      " [0 0]\n",
      " [3 3]\n",
      " [2 2]\n",
      " [2 2]\n",
      " [1 1]\n",
      " [0 0]\n",
      " [0 0]\n",
      " [3 3]\n",
      " [1 1]\n",
      " [1 2]\n",
      " [2 2]\n",
      " [3 3]\n",
      " [1 1]\n",
      " [3 3]\n",
      " [1 1]\n",
      " [1 1]\n",
      " [0 0]\n",
      " [1 2]\n",
      " [0 0]\n",
      " [2 1]\n",
      " [3 3]\n",
      " [0 0]\n",
      " [0 0]\n",
      " [3 3]\n",
      " [3 3]\n",
      " [3 3]\n",
      " [1 1]\n",
      " [3 3]\n",
      " [3 3]\n",
      " [1 1]\n",
      " [3 3]\n",
      " [0 0]\n",
      " [2 1]\n",
      " [3 3]\n",
      " [1 1]\n",
      " [1 1]\n",
      " [3 3]\n",
      " [0 0]\n",
      " [2 3]\n",
      " [0 0]\n",
      " [3 3]\n",
      " [2 2]\n",
      " [2 2]\n",
      " [0 0]\n",
      " [3 3]\n",
      " [3 3]\n",
      " [1 1]\n",
      " [3 3]\n",
      " [2 2]\n",
      " [2 1]\n",
      " [2 2]\n",
      " [3 3]\n",
      " [3 2]\n",
      " [2 2]\n",
      " [2 2]\n",
      " [3 3]\n",
      " [2 2]\n",
      " [1 1]\n",
      " [0 0]\n",
      " [1 1]\n",
      " [3 3]\n",
      " [2 2]\n",
      " [2 2]\n",
      " [2 1]\n",
      " [1 2]\n",
      " [3 3]\n",
      " [2 3]\n",
      " [3 3]\n",
      " [0 0]\n",
      " [0 0]\n",
      " [0 0]\n",
      " [2 2]\n",
      " [1 1]\n",
      " [1 2]\n",
      " [3 3]\n",
      " [1 1]\n",
      " [2 2]\n",
      " [2 2]\n",
      " [1 1]\n",
      " [0 0]\n",
      " [3 3]\n",
      " [3 3]\n",
      " [3 3]\n",
      " [0 0]\n",
      " [3 3]\n",
      " [1 1]\n",
      " [2 1]\n",
      " [3 2]\n",
      " [1 1]\n",
      " [3 3]\n",
      " [1 2]\n",
      " [2 2]\n",
      " [3 3]\n",
      " [2 2]\n",
      " [3 3]\n",
      " [3 3]\n",
      " [0 0]\n",
      " [0 0]\n",
      " [2 1]\n",
      " [3 3]\n",
      " [3 3]\n",
      " [0 0]\n",
      " [1 0]\n",
      " [1 1]\n",
      " [0 0]\n",
      " [1 0]\n",
      " [3 3]\n",
      " [2 2]\n",
      " [2 2]\n",
      " [1 1]\n",
      " [2 1]\n",
      " [1 1]\n",
      " [1 1]\n",
      " [0 0]\n",
      " [2 2]\n",
      " [1 1]\n",
      " [3 3]\n",
      " [3 2]\n",
      " [3 3]\n",
      " [3 3]\n",
      " [3 3]\n",
      " [3 3]\n",
      " [1 2]\n",
      " [0 0]\n",
      " [2 1]\n",
      " [1 1]\n",
      " [2 2]\n",
      " [2 1]\n",
      " [3 3]\n",
      " [0 1]\n",
      " [3 3]\n",
      " [0 0]\n",
      " [0 0]\n",
      " [2 2]\n",
      " [0 0]\n",
      " [1 1]\n",
      " [1 1]\n",
      " [1 1]\n",
      " [1 1]\n",
      " [3 3]\n",
      " [1 0]\n",
      " [0 0]\n",
      " [3 3]\n",
      " [1 1]\n",
      " [3 3]\n",
      " [2 2]\n",
      " [1 1]\n",
      " [3 3]\n",
      " [1 1]\n",
      " [2 2]\n",
      " [3 3]\n",
      " [3 3]\n",
      " [2 2]\n",
      " [1 1]\n",
      " [0 0]\n",
      " [3 3]\n",
      " [2 1]\n",
      " [2 2]\n",
      " [3 3]\n",
      " [3 3]\n",
      " [0 0]\n",
      " [1 2]\n",
      " [2 2]\n",
      " [3 3]\n",
      " [0 0]\n",
      " [3 2]\n",
      " [1 1]\n",
      " [1 0]\n",
      " [2 1]\n",
      " [3 2]\n",
      " [1 1]\n",
      " [2 2]\n",
      " [0 0]\n",
      " [2 3]\n",
      " [3 3]\n",
      " [1 1]\n",
      " [1 1]\n",
      " [0 0]\n",
      " [2 2]\n",
      " [3 3]\n",
      " [0 0]\n",
      " [1 1]\n",
      " [3 2]\n",
      " [2 2]\n",
      " [0 0]\n",
      " [3 3]\n",
      " [3 3]\n",
      " [3 3]\n",
      " [1 1]\n",
      " [1 2]\n",
      " [3 3]\n",
      " [2 3]\n",
      " [3 3]\n",
      " [0 0]\n",
      " [0 0]\n",
      " [0 0]\n",
      " [2 2]\n",
      " [3 3]\n",
      " [3 3]\n",
      " [0 0]\n",
      " [0 0]\n",
      " [1 1]\n",
      " [3 3]\n",
      " [2 1]\n",
      " [3 3]\n",
      " [3 3]\n",
      " [3 3]\n",
      " [0 0]\n",
      " [0 0]\n",
      " [2 2]\n",
      " [2 3]\n",
      " [3 3]\n",
      " [2 1]\n",
      " [1 0]\n",
      " [2 2]\n",
      " [0 0]\n",
      " [0 0]\n",
      " [0 0]\n",
      " [3 3]\n",
      " [2 2]\n",
      " [0 0]\n",
      " [2 2]\n",
      " [2 2]\n",
      " [0 1]\n",
      " [1 1]\n",
      " [0 0]\n",
      " [2 2]\n",
      " [3 3]\n",
      " [3 3]\n",
      " [0 0]\n",
      " [0 0]\n",
      " [1 1]\n",
      " [3 3]\n",
      " [3 3]\n",
      " [2 2]\n",
      " [3 3]\n",
      " [0 0]\n",
      " [3 3]\n",
      " [1 1]\n",
      " [1 1]\n",
      " [0 0]\n",
      " [1 2]\n",
      " [3 3]\n",
      " [2 3]\n",
      " [2 2]\n",
      " [0 0]\n",
      " [0 0]\n",
      " [1 1]\n",
      " [3 2]\n",
      " [3 3]\n",
      " [2 2]\n",
      " [2 2]\n",
      " [3 3]\n",
      " [2 2]\n",
      " [1 1]\n",
      " [0 0]\n",
      " [3 3]\n",
      " [3 3]\n",
      " [2 2]\n",
      " [2 1]\n",
      " [3 3]\n",
      " [2 2]\n",
      " [2 2]\n",
      " [2 2]\n",
      " [1 1]\n",
      " [0 0]\n",
      " [2 2]\n",
      " [2 2]\n",
      " [1 1]\n",
      " [0 0]\n",
      " [0 0]\n",
      " [2 2]\n",
      " [2 2]\n",
      " [2 2]\n",
      " [2 2]\n",
      " [0 0]\n",
      " [2 1]\n",
      " [2 3]\n",
      " [0 0]\n",
      " [1 1]\n",
      " [2 2]\n",
      " [3 3]\n",
      " [0 0]\n",
      " [2 2]\n",
      " [0 0]\n",
      " [0 1]\n",
      " [1 1]\n",
      " [3 3]\n",
      " [0 0]\n",
      " [0 0]\n",
      " [2 2]\n",
      " [3 3]\n",
      " [1 1]\n",
      " [2 2]\n",
      " [0 0]\n",
      " [1 2]\n",
      " [0 0]\n",
      " [3 3]\n",
      " [0 0]\n",
      " [3 3]\n",
      " [3 3]\n",
      " [2 2]\n",
      " [3 3]\n",
      " [1 1]\n",
      " [1 2]\n",
      " [2 2]\n",
      " [1 1]\n",
      " [1 1]\n",
      " [2 1]\n",
      " [0 0]\n",
      " [1 1]\n",
      " [0 0]\n",
      " [3 3]\n",
      " [1 1]\n",
      " [0 0]\n",
      " [3 3]\n",
      " [1 0]\n",
      " [0 0]\n",
      " [1 1]\n",
      " [2 3]\n",
      " [0 0]\n",
      " [3 3]\n",
      " [2 1]\n",
      " [2 2]\n",
      " [0 0]\n",
      " [1 1]\n",
      " [3 3]\n",
      " [0 0]\n",
      " [2 2]\n",
      " [1 2]\n",
      " [1 1]\n",
      " [2 2]\n",
      " [2 1]\n",
      " [2 1]\n",
      " [0 0]\n",
      " [2 2]\n",
      " [0 0]\n",
      " [0 0]\n",
      " [3 3]\n",
      " [1 1]\n",
      " [3 2]\n",
      " [3 3]\n",
      " [1 2]\n",
      " [2 2]\n",
      " [0 0]\n",
      " [3 3]\n",
      " [2 2]\n",
      " [2 2]\n",
      " [1 1]\n",
      " [3 3]\n",
      " [2 2]\n",
      " [3 3]\n",
      " [3 3]\n",
      " [3 3]\n",
      " [0 0]\n",
      " [3 2]\n",
      " [0 0]\n",
      " [3 3]\n",
      " [0 0]\n",
      " [1 1]\n",
      " [1 1]\n",
      " [2 2]\n",
      " [2 2]\n",
      " [1 1]\n",
      " [3 3]\n",
      " [1 1]\n",
      " [1 2]\n",
      " [0 0]\n",
      " [1 1]\n",
      " [1 2]\n",
      " [3 3]\n",
      " [0 0]\n",
      " [0 0]\n",
      " [1 1]\n",
      " [3 3]\n",
      " [0 0]\n",
      " [3 3]\n",
      " [0 0]\n",
      " [2 2]\n",
      " [2 2]\n",
      " [1 1]\n",
      " [1 1]\n",
      " [0 0]\n",
      " [2 2]\n",
      " [0 1]\n",
      " [0 0]\n",
      " [1 1]\n",
      " [3 3]\n",
      " [0 0]\n",
      " [3 3]\n",
      " [3 3]\n",
      " [0 0]\n",
      " [2 2]\n",
      " [2 1]\n",
      " [3 3]\n",
      " [2 1]\n",
      " [1 1]\n",
      " [3 3]\n",
      " [2 2]\n",
      " [0 0]\n",
      " [2 3]\n",
      " [2 2]\n",
      " [2 2]\n",
      " [0 0]\n",
      " [0 0]\n",
      " [3 3]\n",
      " [0 0]\n",
      " [0 1]\n",
      " [1 1]\n",
      " [1 1]\n",
      " [3 3]\n",
      " [1 2]\n",
      " [3 3]\n",
      " [2 2]\n",
      " [0 0]\n",
      " [3 3]\n",
      " [0 0]\n",
      " [0 0]\n",
      " [1 1]\n",
      " [3 3]\n",
      " [0 0]\n",
      " [1 0]\n",
      " [3 3]\n",
      " [3 2]\n",
      " [2 2]\n",
      " [2 2]\n",
      " [3 3]\n",
      " [0 0]\n",
      " [0 0]\n",
      " [1 1]\n",
      " [2 2]\n",
      " [0 1]\n",
      " [2 2]\n",
      " [0 0]\n",
      " [3 3]\n",
      " [3 3]\n",
      " [0 0]\n",
      " [3 3]\n",
      " [3 3]\n",
      " [0 0]\n",
      " [2 2]\n",
      " [1 2]\n",
      " [1 1]\n",
      " [0 0]\n",
      " [2 2]\n",
      " [2 2]\n",
      " [1 1]\n",
      " [3 3]\n",
      " [2 2]\n",
      " [2 2]\n",
      " [0 0]\n",
      " [2 2]\n",
      " [0 0]\n",
      " [3 3]\n",
      " [3 3]\n",
      " [2 2]\n",
      " [1 1]\n",
      " [0 0]\n",
      " [3 3]\n",
      " [1 1]\n",
      " [2 2]\n",
      " [0 0]\n",
      " [0 0]\n",
      " [1 1]\n",
      " [3 3]\n",
      " [0 0]\n",
      " [3 3]\n",
      " [0 0]\n",
      " [0 0]\n",
      " [1 2]\n",
      " [2 2]\n",
      " [0 0]\n",
      " [1 1]\n",
      " [2 3]\n",
      " [0 0]\n",
      " [2 3]\n",
      " [1 2]\n",
      " [1 1]\n",
      " [2 2]\n",
      " [0 0]\n",
      " [3 3]\n",
      " [1 1]\n",
      " [1 2]\n",
      " [3 3]\n",
      " [1 2]]\n"
     ]
    }
   ],
   "source": [
    "y_pred = classifier.predict(X_test)\n",
    "print(np.concatenate((y_pred.reshape(len(y_pred),1), y_test.reshape(len(y_test),1)),1))"
   ]
  },
  {
   "cell_type": "markdown",
   "metadata": {},
   "source": [
    "## Making the Confusion Matrix"
   ]
  },
  {
   "cell_type": "code",
   "execution_count": 13,
   "metadata": {},
   "outputs": [
    {
     "name": "stdout",
     "output_type": "stream",
     "text": [
      "[[117   7   0   0]\n",
      " [  6  83  21   0]\n",
      " [  0  22  92  11]\n",
      " [  0   0  11 130]]\n"
     ]
    },
    {
     "data": {
      "text/plain": [
       "0.844"
      ]
     },
     "execution_count": 13,
     "metadata": {},
     "output_type": "execute_result"
    }
   ],
   "source": [
    "from sklearn.metrics import confusion_matrix, accuracy_score\n",
    "cm = confusion_matrix(y_test, y_pred)\n",
    "print(cm)\n",
    "accuracy_score(y_test, y_pred)"
   ]
  },
  {
   "cell_type": "markdown",
   "metadata": {},
   "source": [
    "# Visualising the confusion matrix"
   ]
  },
  {
   "cell_type": "code",
   "execution_count": 14,
   "metadata": {},
   "outputs": [
    {
     "data": {
      "text/plain": [
       "Text(69.0, 0.5, 'Truth')"
      ]
     },
     "execution_count": 14,
     "metadata": {},
     "output_type": "execute_result"
    },
    {
     "data": {
      "image/png": "[encoded data removed]",
      "text/plain": [
       "<Figure size 720x504 with 2 Axes>"
      ]
     },
     "metadata": {
      "needs_background": "light"
     },
     "output_type": "display_data"
    }
   ],
   "source": [
    "import seaborn as sn\n",
    "plt.figure(figsize = (10,7))\n",
    "sn.heatmap(cm, annot=True)\n",
    "plt.xlabel('Predicted')\n",
    "plt.ylabel('Truth')"
   ]
  },
  {
   "cell_type": "markdown",
   "metadata": {},
   "source": [
    "## Applying k-Fold Cross Validation"
   ]
  },
  {
   "cell_type": "code",
   "execution_count": 12,
   "metadata": {},
   "outputs": [
    {
     "name": "stdout",
     "output_type": "stream",
     "text": [
      "Accuracy: 80.00 %\n",
      "Standard Deviation: 1.54 %\n"
     ]
    }
   ],
   "source": [
    "from sklearn.model_selection import cross_val_score\n",
    "accuracies = cross_val_score(estimator = classifier, X = X_train, y = y_train, cv = 10)\n",
    "print(\"Accuracy: {:.2f} %\".format(accuracies.mean()*100))\n",
    "print(\"Standard Deviation: {:.2f} %\".format(accuracies.std()*100))"
   ]
  }
 ],
 "metadata": {
  "kernelspec": {
   "display_name": "Python 3",
   "language": "python",
   "name": "python3"
  },
  "language_info": {
   "codemirror_mode": {
    "name": "ipython",
    "version": 3
   },
   "file_extension": ".py",
   "mimetype": "text/x-python",
   "name": "python",
   "nbconvert_exporter": "python",
   "pygments_lexer": "ipython3",
   "version": "3.7.3"
  }
 },
 "nbformat": 4,
 "nbformat_minor": 2
}
